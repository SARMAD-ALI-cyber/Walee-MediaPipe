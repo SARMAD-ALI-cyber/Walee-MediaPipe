{
 "cells": [
  {
   "cell_type": "code",
   "execution_count": 11,
   "metadata": {},
   "outputs": [
    {
     "name": "stdout",
     "output_type": "stream",
     "text": [
      "device0 <HDF5 group \"/device0\" (6 members)>\n",
      "device0/events <HDF5 group \"/device0/events\" (4 members)>\n",
      "device0/events/ps <HDF5 dataset \"ps\": shape (79228157,), type \"|u1\">\n",
      "device0/events/ts <HDF5 dataset \"ts\": shape (79228157,), type \"<f8\">\n",
      "device0/events/xs <HDF5 dataset \"xs\": shape (79228157,), type \"<u2\">\n",
      "device0/events/ys <HDF5 dataset \"ys\": shape (79228157,), type \"<u2\">\n",
      "device0/events_ch0 <HDF5 group \"/device0/events_ch0\" (4 members)>\n",
      "device0/events_ch0/ps <HDF5 dataset \"ps\": shape (88149678,), type \"|u1\">\n",
      "device0/events_ch0/ts <HDF5 dataset \"ts\": shape (88149678,), type \"<f8\">\n",
      "device0/events_ch0/xs <HDF5 dataset \"xs\": shape (88149678,), type \"<u2\">\n",
      "device0/events_ch0/ys <HDF5 dataset \"ys\": shape (88149678,), type \"<u2\">\n",
      "device0/events_ch1 <HDF5 group \"/device0/events_ch1\" (4 members)>\n",
      "device0/events_ch1/ps <HDF5 dataset \"ps\": shape (81322278,), type \"|u1\">\n",
      "device0/events_ch1/ts <HDF5 dataset \"ts\": shape (81322278,), type \"<f8\">\n",
      "device0/events_ch1/xs <HDF5 dataset \"xs\": shape (81322278,), type \"<u2\">\n",
      "device0/events_ch1/ys <HDF5 dataset \"ys\": shape (81322278,), type \"<u2\">\n",
      "device0/events_ch2 <HDF5 group \"/device0/events_ch2\" (4 members)>\n",
      "device0/events_ch2/ps <HDF5 dataset \"ps\": shape (76288595,), type \"|u1\">\n",
      "device0/events_ch2/ts <HDF5 dataset \"ts\": shape (76288595,), type \"<f8\">\n",
      "device0/events_ch2/xs <HDF5 dataset \"xs\": shape (76288595,), type \"<u2\">\n",
      "device0/events_ch2/ys <HDF5 dataset \"ys\": shape (76288595,), type \"<u2\">\n",
      "device0/gt <HDF5 group \"/device0/gt\" (1 members)>\n",
      "device0/gt/bbox_landmarks <HDF5 group \"/device0/gt/bbox_landmarks\" (3 members)>\n",
      "device0/gt/bbox_landmarks/descriptor <HDF5 dataset \"descriptor\": shape (1833, 5), type \"<f8\">\n",
      "device0/gt/bbox_landmarks/labels <HDF5 dataset \"labels\": shape (1833,), type \"<f8\">\n",
      "device0/gt/bbox_landmarks/ts <HDF5 dataset \"ts\": shape (1833,), type \"<f8\">\n",
      "device0/images <HDF5 group \"/device0/images\" (2 members)>\n",
      "device0/images/frames <HDF5 dataset \"frames\": shape (1217, 360, 640, 3), type \"|u1\">\n",
      "device0/images/ts <HDF5 dataset \"ts\": shape (1217,), type \"<f8\">\n"
     ]
    }
   ],
   "source": [
    "import h5py\n",
    "\n",
    "# Replace 'your_file.h5' with the path to your .h5 file\n",
    "h5_file_path = \"E:\\WaleeDatasets\\MediaPipe_videos_DS\\OrignaDataset\\orignalData5.h5\"\n",
    "\n",
    "# Open the HDF5 file\n",
    "with h5py.File(h5_file_path, 'r') as f:\n",
    "    # Print the structure of the file\n",
    "    def print_structure(name, obj):\n",
    "        print(name, obj)\n",
    "\n",
    "    f.visititems(print_structure)\n"
   ]
  },
  {
   "cell_type": "markdown",
   "metadata": {},
   "source": [
    "## For single video creation "
   ]
  },
  {
   "cell_type": "code",
   "execution_count": 12,
   "metadata": {},
   "outputs": [
    {
     "name": "stdout",
     "output_type": "stream",
     "text": [
      "Frames shape: (1217, 360, 640, 3)\n",
      "Video has been saved as 'output2_video.avi'.\n"
     ]
    }
   ],
   "source": [
    "import h5py\n",
    "import cv2\n",
    "import numpy as np\n",
    "\n",
    "# Replace 'your_file.h5' with the path to your .h5 file\n",
    "h5_file_path = \"E:\\WaleeDatasets\\MediaPipe_videos_DS\\OrignaDataset\\orignalData5.h5\"\n",
    "\n",
    "# Open the HDF5 file to extract the frames\n",
    "with h5py.File(h5_file_path, 'r') as f:\n",
    "    # Access the frames dataset\n",
    "    frames = f['device0/images/frames'][:]\n",
    "    \n",
    "    # Print the shape of frames to verify\n",
    "    print(f\"Frames shape: {frames.shape}\")\n",
    "\n",
    "    # Define the output video properties\n",
    "    height, width = frames.shape[1], frames.shape[2]\n",
    "    video_output_path = '../orignalDataset/Videos/FullLengthVideos/orignal5_output_video.avi'\n",
    "    \n",
    "    # Use XVID codec for .avi format\n",
    "    out = cv2.VideoWriter(video_output_path, cv2.VideoWriter_fourcc(*'XVID'), 30, (width, height))\n",
    "    \n",
    "    # Iterate over the frames and write them to the video file\n",
    "    for frame in frames:\n",
    "        # Ensure the frame is in the correct color format\n",
    "        frame_bgr = cv2.cvtColor(frame, cv2.COLOR_RGB2BGR)\n",
    "        out.write(frame_bgr)\n",
    "    \n",
    "    # Release the VideoWriter object\n",
    "    out.release()\n",
    "\n",
    "print(\"Video has been saved as 'output2_video.avi'.\")\n"
   ]
  },
  {
   "cell_type": "markdown",
   "metadata": {},
   "source": [
    "## If want to devide large video in multiple shorts"
   ]
  },
  {
   "cell_type": "code",
   "execution_count": 13,
   "metadata": {},
   "outputs": [
    {
     "name": "stdout",
     "output_type": "stream",
     "text": [
      "Total Frames: 1217\n",
      "Saved ../orignalDataset/Videos/output5_video_part_0.avi\n",
      "Saved ../orignalDataset/Videos/output5_video_part_1.avi\n",
      "Saved ../orignalDataset/Videos/output5_video_part_2.avi\n",
      "Saved ../orignalDataset/Videos/output5_video_part_3.avi\n",
      "Saved ../orignalDataset/Videos/output5_video_part_4.avi\n",
      "Saved ../orignalDataset/Videos/output5_video_part_5.avi\n",
      "Saved ../orignalDataset/Videos/output5_video_part_6.avi\n",
      "All video parts have been saved.\n"
     ]
    }
   ],
   "source": [
    "import h5py\n",
    "import cv2\n",
    "import numpy as np\n",
    "\n",
    "# Replace 'your_file.h5' with the path to your .h5 file\n",
    "h5_file_path = \"E:\\WaleeDatasets\\MediaPipe_videos_DS\\OrignaDataset\\orignalData5.h5\"\n",
    "\n",
    "# Define the number of frames per split video\n",
    "frames_per_split = 200  # Change this as needed\n",
    "\n",
    "# Open the HDF5 file to extract the frames\n",
    "with h5py.File(h5_file_path, 'r') as f:\n",
    "    # Access the frames and timestamps dataset\n",
    "    frames = f['device0/images/frames'][:]\n",
    "    timestamps = f['device0/images/ts'][:]\n",
    "    \n",
    "    # Print the shape of frames to verify\n",
    "    print(f\"Total Frames: {frames.shape[0]}\")\n",
    "\n",
    "    # Define the output video properties\n",
    "    height, width = frames.shape[1], frames.shape[2]\n",
    "    \n",
    "    # Loop to create multiple video files from chunks of frames\n",
    "    for i in range(0, len(frames), frames_per_split):\n",
    "        # Define the filename for each split video\n",
    "        video_output_path = f'../orignalDataset/Videos/output5_video_part_{i//frames_per_split}.avi'\n",
    "        \n",
    "        # Use XVID codec for .avi format\n",
    "        out = cv2.VideoWriter(video_output_path, cv2.VideoWriter_fourcc(*'XVID'), 30, (width, height))\n",
    "        \n",
    "        # Get the frame chunk for the current split\n",
    "        frame_chunk = frames[i:i + frames_per_split]\n",
    "        \n",
    "        # Write each frame in the chunk to the video file\n",
    "        for frame in frame_chunk:\n",
    "            # Ensure the frame is in the correct color format\n",
    "            frame_bgr = cv2.cvtColor(frame, cv2.COLOR_RGB2BGR)\n",
    "            out.write(frame_bgr)\n",
    "        \n",
    "        # Release the VideoWriter object\n",
    "        out.release()\n",
    "        print(f\"Saved {video_output_path}\")\n",
    "\n",
    "print(\"All video parts have been saved.\")\n"
   ]
  },
  {
   "cell_type": "code",
   "execution_count": null,
   "metadata": {},
   "outputs": [],
   "source": []
  }
 ],
 "metadata": {
  "kernelspec": {
   "display_name": "py310",
   "language": "python",
   "name": "python3"
  },
  "language_info": {
   "codemirror_mode": {
    "name": "ipython",
    "version": 3
   },
   "file_extension": ".py",
   "mimetype": "text/x-python",
   "name": "python",
   "nbconvert_exporter": "python",
   "pygments_lexer": "ipython3",
   "version": "3.10.14"
  }
 },
 "nbformat": 4,
 "nbformat_minor": 2
}
